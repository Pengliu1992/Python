{
 "cells": [
  {
   "cell_type": "code",
   "execution_count": 33,
   "metadata": {},
   "outputs": [
    {
     "data": {
      "text/plain": [
       "[9, 8, 7, 6, 4, 4, 3, 2, 1, 0]"
      ]
     },
     "execution_count": 33,
     "metadata": {},
     "output_type": "execute_result"
    }
   ],
   "source": [
    "#https://leetcode.com/problems/how-many-numbers-are-smaller-than-the-current-number/\n",
    "\n",
    "def smallerNumbersThanCurrent(nums):\n",
    "        Res={}\n",
    "        \n",
    "        for i,k in enumerate(sorted(nums)):\n",
    "            if k not in Res:\n",
    "                Res[k]=i\n",
    "        \n",
    "        return [Res[i] for i in nums]\n",
    "    \n",
    "    \n",
    "ans=smallerNumbersThanCurrent([9,8,7,6,5,5,4,3,2,1])\n",
    "ans\n"
   ]
  },
  {
   "cell_type": "code",
   "execution_count": 36,
   "metadata": {},
   "outputs": [
    {
     "data": {
      "text/plain": [
       "[2, 4, 4, 4]"
      ]
     },
     "execution_count": 36,
     "metadata": {},
     "output_type": "execute_result"
    }
   ],
   "source": [
    "# Decompress Run-Length Encoded List\n",
    "def decompressRLElist(nums):\n",
    "    Res=[]\n",
    "    for i in range(0,len(nums),2):\n",
    "        Sub=[]\n",
    "        Sub.append(nums[i+1])\n",
    "        Res+=Sub*nums[i]\n",
    "    return Res\n",
    "\n",
    "decompressRLElist([1,2,3,4])\n",
    "        "
   ]
  },
  {
   "cell_type": "code",
   "execution_count": 30,
   "metadata": {},
   "outputs": [
    {
     "data": {
      "text/plain": [
       "[5, 5]"
      ]
     },
     "execution_count": 30,
     "metadata": {},
     "output_type": "execute_result"
    }
   ],
   "source": [
    "[5]*2"
   ]
  },
  {
   "cell_type": "code",
   "execution_count": null,
   "metadata": {},
   "outputs": [],
   "source": []
  }
 ],
 "metadata": {
  "kernelspec": {
   "display_name": "Python 3",
   "language": "python",
   "name": "python3"
  },
  "language_info": {
   "codemirror_mode": {
    "name": "ipython",
    "version": 3
   },
   "file_extension": ".py",
   "mimetype": "text/x-python",
   "name": "python",
   "nbconvert_exporter": "python",
   "pygments_lexer": "ipython3",
   "version": "3.8.2"
  }
 },
 "nbformat": 4,
 "nbformat_minor": 4
}
