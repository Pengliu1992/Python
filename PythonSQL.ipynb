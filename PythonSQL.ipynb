{
 "cells": [
  {
   "cell_type": "code",
   "execution_count": 2,
   "metadata": {
    "scrolled": true
   },
   "outputs": [
    {
     "name": "stdout",
     "output_type": "stream",
     "text": [
      "(14032, 'Jinxiu Liu', Decimal('171.00'), datetime.date(1968, 7, 13))\n",
      "(14035, 'Yinxia Liu', Decimal('167.00'), datetime.date(1969, 4, 21))\n",
      "(14164, 'Zhihui Gao', Decimal('170.00'), datetime.date(1992, 2, 28))\n",
      "(14726, 'Peng Liu', Decimal('175.00'), datetime.date(1992, 2, 23))\n"
     ]
    }
   ],
   "source": [
    "import mysql.connector\n",
    "\n",
    "mydb = mysql.connector.connect(\n",
    "  host=\"localhost\",\n",
    "  user=\"root\",\n",
    "  passwd=\"zhihui328\",\n",
    "  database=\"my_database\"\n",
    ")\n",
    "\n",
    "cursor = mydb.cursor()\n",
    "\n",
    "stm=\"Select * from table1\"\n",
    "cursor.execute(stm)\n",
    "opt = cursor.fetchall()\n",
    "for x in opt:\n",
    "  print(x)\n"
   ]
  },
  {
   "cell_type": "code",
   "execution_count": null,
   "metadata": {},
   "outputs": [],
   "source": []
  }
 ],
 "metadata": {
  "kernelspec": {
   "display_name": "Python 3",
   "language": "python",
   "name": "python3"
  },
  "language_info": {
   "codemirror_mode": {
    "name": "ipython",
    "version": 3
   },
   "file_extension": ".py",
   "mimetype": "text/x-python",
   "name": "python",
   "nbconvert_exporter": "python",
   "pygments_lexer": "ipython3",
   "version": "3.8.2"
  }
 },
 "nbformat": 4,
 "nbformat_minor": 4
}
